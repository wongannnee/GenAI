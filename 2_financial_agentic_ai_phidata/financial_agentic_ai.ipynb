{
  "cells": [
    {
      "cell_type": "code",
      "source": [
        "from google.colab import drive\n",
        "drive.mount('/content/drive')"
      ],
      "metadata": {
        "colab": {
          "base_uri": "https://localhost:8080/"
        },
        "id": "_K240V7rgLXR",
        "outputId": "6f800925-ca14-4d2b-96a8-9006087b61bc"
      },
      "execution_count": 3,
      "outputs": [
        {
          "output_type": "stream",
          "name": "stdout",
          "text": [
            "Mounted at /content/drive\n"
          ]
        }
      ]
    },
    {
      "cell_type": "code",
      "source": [
        "!pip install phidata python-dotenv yfinance packaging\n",
        "!pip install duckduckgo-search fastapi uvicorn groq"
      ],
      "metadata": {
        "id": "sbO5iqF8ghFk"
      },
      "execution_count": 7,
      "outputs": []
    },
    {
      "cell_type": "markdown",
      "source": [],
      "metadata": {
        "id": "GW9EpC8nhxSx"
      }
    },
    {
      "cell_type": "code",
      "source": [
        "#Keys\n",
        "PHI_API_KEY = \"phi-Jmn7bIszMj9VKJVe82L5bD6s8mSGY7Rks-kXLLiQyv0\"\n",
        "GROQ_API_KEY = \"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\"\n"
      ],
      "metadata": {
        "id": "Dnov5cLHhzHf"
      },
      "execution_count": null,
      "outputs": []
    },
    {
      "cell_type": "code",
      "source": [],
      "metadata": {
        "id": "_EZJSYa5hzBg"
      },
      "execution_count": null,
      "outputs": []
    },
    {
      "cell_type": "code",
      "source": [],
      "metadata": {
        "id": "XkbmLhKphy1u"
      },
      "execution_count": null,
      "outputs": []
    }
  ],
  "metadata": {
    "language_info": {
      "name": "python"
    },
    "colab": {
      "provenance": []
    },
    "kernelspec": {
      "name": "python3",
      "display_name": "Python 3"
    }
  },
  "nbformat": 4,
  "nbformat_minor": 0
}